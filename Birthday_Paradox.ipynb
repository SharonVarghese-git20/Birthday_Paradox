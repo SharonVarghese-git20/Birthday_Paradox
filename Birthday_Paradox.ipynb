{
  "nbformat": 4,
  "nbformat_minor": 0,
  "metadata": {
    "colab": {
      "provenance": [],
      "authorship_tag": "ABX9TyPfwL4jkWlsP0MN9E31LQxf",
      "include_colab_link": true
    },
    "kernelspec": {
      "name": "python3",
      "display_name": "Python 3"
    },
    "language_info": {
      "name": "python"
    }
  },
  "cells": [
    {
      "cell_type": "markdown",
      "metadata": {
        "id": "view-in-github",
        "colab_type": "text"
      },
      "source": [
        "<a href=\"https://colab.research.google.com/github/SharonVarghese-git20/Birthday_Paradox/blob/main/Birthday_Paradox.ipynb\" target=\"_parent\"><img src=\"https://colab.research.google.com/assets/colab-badge.svg\" alt=\"Open In Colab\"/></a>"
      ]
    },
    {
      "cell_type": "code",
      "execution_count": 1,
      "metadata": {
        "colab": {
          "base_uri": "https://localhost:8080/"
        },
        "id": "4Qfc0X6h4YGl",
        "outputId": "6ed525e4-0aa5-40d0-b54b-edb2672317aa"
      },
      "outputs": [
        {
          "output_type": "stream",
          "name": "stdout",
          "text": [
            "The probability of at least two people sharing a birthday in a group of 23 is approximately 50.66%\n",
            "The probability of at least two people sharing a birthday in a group of 70 is approximately 99.92%\n"
          ]
        }
      ],
      "source": [
        "import random\n",
        "\n",
        "def birthday_paradox_probability(num_people):\n",
        "    \"\"\"Calculate the probability of at least two people sharing a birthday in a group.\"\"\"\n",
        "    num_simulations = 100000  # Number of simulations to run\n",
        "    success_count = 0\n",
        "\n",
        "    for _ in range(num_simulations):\n",
        "        birthdays = set(random.randint(1, 365) for _ in range(num_people))\n",
        "        if len(birthdays) != num_people:\n",
        "            success_count += 1\n",
        "\n",
        "    probability = success_count / num_simulations\n",
        "    return probability\n",
        "\n",
        "def main():\n",
        "    num_people = 23  # Number of people in the group\n",
        "\n",
        "    probability = birthday_paradox_probability(num_people)\n",
        "    print(f\"The probability of at least two people sharing a birthday in a group of {num_people} is approximately {probability*100:.2f}%\")\n",
        "\n",
        "    num_people = 70\n",
        "    probability = birthday_paradox_probability(num_people)\n",
        "    print(f\"The probability of at least two people sharing a birthday in a group of {num_people} is approximately {probability*100:.2f}%\")\n",
        "\n",
        "if __name__ == \"__main__\":\n",
        "    main()"
      ]
    }
  ]
}